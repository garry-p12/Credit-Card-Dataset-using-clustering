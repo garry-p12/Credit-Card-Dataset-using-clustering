{
 "cells": [
  {
   "cell_type": "markdown",
   "id": "41abb6b6",
   "metadata": {},
   "source": [
    "## Importing libraries"
   ]
  },
  {
   "cell_type": "code",
   "execution_count": null,
   "id": "878cffd3",
   "metadata": {},
   "outputs": [],
   "source": [
    "import pandas as pd\n",
    "import numpy as np\n",
    "import matplotlib.pyplot as plt\n",
    "import plotly.express as px\n",
    "import seaborn as sns\n",
    "from sklearn.model_selection import train_test_split\n",
    "from sklearn.ensemble import RandomForestRegressor\n",
    "from sklearn.metrics import mean_absolute_error\n",
    "from sklearn.preprocessing import LabelEncoder, StandardScaler,MinMaxScaler\n",
    "from sklearn.metrics import mean_absolute_error, r2_score\n",
    "from sklearn.linear_model import LinearRegression\n",
    "import statsmodels.api as sm\n",
    "from statsmodels.stats.outliers_influence import variance_inflation_factor\n",
    "from sklearn.decomposition import PCA\n",
    "from sklearn.metrics.pairwise import cosine_similarity\n",
    "from scipy.cluster.hierarchy import dendrogram, linkage\n",
    "from sklearn.cluster import AgglomerativeClustering \n",
    "from sklearn.mixture import GaussianMixture\n",
    "from sklearn.cluster import SpectralClustering \n",
    "from sklearn.cluster import DBSCAN\n",
    "import warnings\n",
    "warnings.filterwarnings('ignore')\n",
    "from sklearn.cluster import KMeans"
   ]
  },
  {
   "cell_type": "code",
   "execution_count": null,
   "id": "07d15923",
   "metadata": {},
   "outputs": [],
   "source": [
    "card = pd.read_csv('CC GENERAL.csv')\n",
    "card"
   ]
  },
  {
   "cell_type": "code",
   "execution_count": null,
   "id": "d457d6c0",
   "metadata": {},
   "outputs": [],
   "source": [
    "card.isnull().sum()"
   ]
  },
  {
   "cell_type": "code",
   "execution_count": null,
   "id": "52fddd0e",
   "metadata": {},
   "outputs": [],
   "source": [
    "card['MINIMUM_PAYMENTS'].isnull().head()"
   ]
  },
  {
   "cell_type": "code",
   "execution_count": null,
   "id": "58f41ff9",
   "metadata": {},
   "outputs": [],
   "source": [
    "card['MINIMUM_PAYMENTS'].fillna('0',inplace=True)"
   ]
  },
  {
   "cell_type": "code",
   "execution_count": null,
   "id": "479fc688",
   "metadata": {},
   "outputs": [],
   "source": [
    "card.isnull().sum()"
   ]
  },
  {
   "cell_type": "code",
   "execution_count": null,
   "id": "fa48d6f2",
   "metadata": {},
   "outputs": [],
   "source": [
    "card['CREDIT_LIMIT'].isnull()"
   ]
  },
  {
   "cell_type": "code",
   "execution_count": null,
   "id": "ec497438",
   "metadata": {},
   "outputs": [],
   "source": [
    "null_values = pd.isnull(card['CREDIT_LIMIT'])\n",
    "card[null_values]"
   ]
  },
  {
   "cell_type": "code",
   "execution_count": null,
   "id": "9456d586",
   "metadata": {},
   "outputs": [],
   "source": [
    "card['CREDIT_LIMIT'].fillna('0',inplace=True)"
   ]
  },
  {
   "cell_type": "code",
   "execution_count": null,
   "id": "569af149",
   "metadata": {},
   "outputs": [],
   "source": [
    "df = card.drop(['CUST_ID'],axis = 1)\n",
    "df"
   ]
  },
  {
   "cell_type": "markdown",
   "id": "71747d36",
   "metadata": {},
   "source": [
    "## Data Visualization"
   ]
  },
  {
   "cell_type": "code",
   "execution_count": null,
   "id": "fb5e3912",
   "metadata": {},
   "outputs": [],
   "source": [
    "for column in df.columns:\n",
    "     plt.figure(figsize = (20,3))\n",
    "     sns.displot(df[column])\n",
    "     plt.show()"
   ]
  },
  {
   "cell_type": "markdown",
   "id": "d9fe5d36",
   "metadata": {},
   "source": [
    "1. It is visible from the above trends that most people have low credit limits upto 7500\n",
    "2. Many variables like Purchases and OneOffPurchases follow the same trend as credit limit and hence they might be correlated, which needs to be checked\n",
    "3. Purchases are quite less for many people.\n",
    "4. Most preferred method of purchasing is installments\n",
    "5. Most of the card holders hold it for atleast 12 months"
   ]
  },
  {
   "cell_type": "markdown",
   "id": "b567d72e",
   "metadata": {},
   "source": [
    "## Determining the correlation between the variables"
   ]
  },
  {
   "cell_type": "code",
   "execution_count": null,
   "id": "bbce6180",
   "metadata": {},
   "outputs": [],
   "source": [
    "card.corr()"
   ]
  },
  {
   "cell_type": "code",
   "execution_count": null,
   "id": "f7c54989",
   "metadata": {},
   "outputs": [],
   "source": [
    "plt.figure(figsize=(15, 15))\n",
    "sns.heatmap(round(df.corr(method='spearman'), 2), \n",
    "            annot=True, mask=None, cmap='YlGnBu')\n",
    "plt.show()"
   ]
  },
  {
   "cell_type": "markdown",
   "id": "3db416ff",
   "metadata": {},
   "source": [
    "From the correlation heatmap it is clear that:\n",
    "1. Some variables like PURCHASES_TRX, PURCHASES_FREQUENCY, PURCHASES,CASH_ADVANCE are strongly correlated with a lot of variables and at the same time some variables like CASH_ADVANCE_TRX, PRC_FULL_PAYMENT are not so correlated with others\n",
    "2. As the credit limit will increase, the balance will also increase, which is indicated by a strong positive correlation.\n",
    "3. Purchases, oneoffpurchases and installment purchases are all related due to a strong positive correlation"
   ]
  },
  {
   "cell_type": "markdown",
   "id": "5c9a94fe",
   "metadata": {},
   "source": [
    "Now, we need to see the plots to check what exactly is the relationship between these variables"
   ]
  },
  {
   "cell_type": "code",
   "execution_count": null,
   "id": "32c5e0f0",
   "metadata": {},
   "outputs": [],
   "source": [
    "sns.pairplot(df)\n",
    "plt.show()"
   ]
  },
  {
   "cell_type": "markdown",
   "id": "fa9f9d36",
   "metadata": {},
   "source": [
    "## Training and Test Dataset Split"
   ]
  },
  {
   "cell_type": "code",
   "execution_count": null,
   "id": "9d281efb",
   "metadata": {},
   "outputs": [],
   "source": [
    "from sklearn.model_selection import train_test_split\n",
    "train_df, test_df = train_test_split(df,test_size=0.2,random_state=42)"
   ]
  },
  {
   "cell_type": "code",
   "execution_count": null,
   "id": "5e090c9e",
   "metadata": {},
   "outputs": [],
   "source": [
    "train_df"
   ]
  },
  {
   "cell_type": "markdown",
   "id": "39760a16",
   "metadata": {},
   "source": [
    "## Normalizing the values"
   ]
  },
  {
   "cell_type": "code",
   "execution_count": null,
   "id": "be5b71d3",
   "metadata": {},
   "outputs": [],
   "source": [
    "mm = MinMaxScaler()\n",
    "train_df = mm.fit_transform(train_df)\n",
    "test_df = mm.transform(test_df)\n",
    "from sklearn.preprocessing import PowerTransformer\n",
    "pt = PowerTransformer()\n",
    "train_df = pt.fit_transform(train_df)\n",
    "test_df = pt.transform(test_df)"
   ]
  },
  {
   "cell_type": "markdown",
   "id": "03e94870",
   "metadata": {},
   "source": [
    "## Clustering"
   ]
  },
  {
   "cell_type": "code",
   "execution_count": null,
   "id": "1a549139",
   "metadata": {},
   "outputs": [],
   "source": [
    "x=card.iloc[:,1:6]"
   ]
  },
  {
   "cell_type": "code",
   "execution_count": null,
   "id": "efcde14f",
   "metadata": {},
   "outputs": [],
   "source": [
    "km = KMeans(5)\n",
    "km.fit(x)"
   ]
  },
  {
   "cell_type": "code",
   "execution_count": null,
   "id": "8a4ff340",
   "metadata": {},
   "outputs": [],
   "source": [
    "km.fit(train_df)\n",
    "y_pred = km.predict(train_df)"
   ]
  },
  {
   "cell_type": "code",
   "execution_count": null,
   "id": "316f50bf",
   "metadata": {},
   "outputs": [],
   "source": [
    "cluster_df = pd.DataFrame(train_df,columns = df.columns)\n",
    "cluster_df['clusters'] = y_pred\n",
    "cluster_df.head(10)"
   ]
  },
  {
   "cell_type": "code",
   "execution_count": null,
   "id": "bdfeb392",
   "metadata": {},
   "outputs": [],
   "source": [
    "identified_clusters = km.fit_predict(x)\n",
    "identified_clusters"
   ]
  },
  {
   "cell_type": "code",
   "execution_count": null,
   "id": "8e8d73e3",
   "metadata": {},
   "outputs": [],
   "source": [
    "data_with_clusters = df.copy()\n",
    "data_with_clusters['Cluster'] = identified_clusters\n",
    "data_with_clusters"
   ]
  },
  {
   "cell_type": "code",
   "execution_count": null,
   "id": "252bb418",
   "metadata": {},
   "outputs": [],
   "source": [
    "X = cluster_df[['BALANCE','PURCHASES']].to_numpy()"
   ]
  },
  {
   "cell_type": "code",
   "execution_count": null,
   "id": "f178bbb0",
   "metadata": {},
   "outputs": [],
   "source": [
    "km = KMeans(n_clusters = 6,init ='k-means++', max_iter=300,random_state=42)\n",
    "km.fit(X)\n",
    "y_balance_pred = km.predict(X)"
   ]
  },
  {
   "cell_type": "code",
   "execution_count": null,
   "id": "bb817030",
   "metadata": {},
   "outputs": [],
   "source": [
    "plt.scatter(X[y_balance_pred==0, 0], X[y_balance_pred==0, 1], s=100, c='#c43735', label ='Cluster 1')\n",
    "plt.scatter(X[y_balance_pred==1, 0], X[y_balance_pred==1, 1], s=100, c='#243233', label ='Cluster 2')\n",
    "plt.scatter(X[y_balance_pred==2, 0], X[y_balance_pred==2, 1], s=100, c='#1b6116', label ='Cluster 3')\n",
    "plt.scatter(X[y_balance_pred==3, 0], X[y_balance_pred==3, 1], s=100, c='#fcba03', label ='Cluster 4')\n",
    "plt.scatter(X[y_balance_pred==4, 0], X[y_balance_pred==4, 1], s=100, c='#543d54', label ='Cluster 4')\n",
    "plt.scatter(X[y_balance_pred==5, 0], X[y_balance_pred==5, 1], s=100, c='#612116', label ='Cluster 4')\n",
    "\n",
    "plt.scatter(km.cluster_centers_[:, 0], km.cluster_centers_[:, 1], s=300, c='cyan', label = 'Centroids')\n",
    "plt.show()"
   ]
  },
  {
   "cell_type": "markdown",
   "id": "7120009c",
   "metadata": {},
   "source": [
    "## Scaled data"
   ]
  },
  {
   "cell_type": "code",
   "execution_count": null,
   "id": "99dc9afb",
   "metadata": {},
   "outputs": [],
   "source": [
    "from sklearn import preprocessing\n",
    "x_scaled = preprocessing.scale(df)\n",
    "x_scaled"
   ]
  },
  {
   "cell_type": "code",
   "execution_count": null,
   "id": "c6318229",
   "metadata": {},
   "outputs": [],
   "source": [
    "km_scaled = KMeans(5)\n",
    "km_scaled.fit(x_scaled)"
   ]
  },
  {
   "cell_type": "code",
   "execution_count": null,
   "id": "2dc9deea",
   "metadata": {},
   "outputs": [],
   "source": [
    "wcss = []\n",
    "# 'cl_num' is a that keeps track the highest number of clusters we want to use the WCSS method for. \n",
    "# We have it set at 10 right now, but it is completely arbitrary.\n",
    "cl_num = 10\n",
    "for i in range (1,cl_num):\n",
    "    km= KMeans(i)\n",
    "    km.fit(x_scaled)\n",
    "    wcss_iter = km.inertia_\n",
    "    wcss.append(wcss_iter)\n",
    "wcss"
   ]
  },
  {
   "cell_type": "code",
   "execution_count": null,
   "id": "4c9fc06f",
   "metadata": {},
   "outputs": [],
   "source": [
    "number_clusters = range(1,cl_num)\n",
    "plt.figure(figsize=(15, 15))\n",
    "plt.plot(number_clusters, wcss)\n",
    "plt.title('The Elbow Method')\n",
    "plt.xlabel('Number of clusters')\n",
    "plt.ylabel('Within-cluster Sum of Squares')"
   ]
  },
  {
   "cell_type": "markdown",
   "id": "fe01ca11",
   "metadata": {},
   "source": [
    "From the elbow curve, we can see that the graph elbows when the number of clusters are 2, 3, 4 and 8.\n",
    "Hence, we need to analyze how the scatter plots will behave when we divide them with 2, 3, 4 and 8 clusters respectively. "
   ]
  },
  {
   "cell_type": "markdown",
   "id": "19115f6f",
   "metadata": {},
   "source": [
    "## 2 clusters"
   ]
  },
  {
   "cell_type": "code",
   "execution_count": null,
   "id": "04bf2863",
   "metadata": {},
   "outputs": [],
   "source": [
    "km_2 = KMeans(2)\n",
    "km_2.fit(x_scaled)"
   ]
  },
  {
   "cell_type": "code",
   "execution_count": null,
   "id": "0b9fc8c2",
   "metadata": {},
   "outputs": [],
   "source": [
    "clusters_2 = x.copy()\n",
    "clusters_2['cluster_pred']=km_2.fkm = KMeans(n_clusters = 2,init ='k-means++', max_iter=300,random_state=42)\n",
    "km.fit(X_2)\n",
    "y_2_balance_pred = km.predict(X_2)it_predict(x_scaled)"
   ]
  },
  {
   "cell_type": "code",
   "execution_count": null,
   "id": "0b5938bd",
   "metadata": {},
   "outputs": [],
   "source": [
    "X_2 = cluster_df[['BALANCE','PURCHASES']].to_numpy()"
   ]
  },
  {
   "cell_type": "code",
   "execution_count": null,
   "id": "0e6430a3",
   "metadata": {},
   "outputs": [],
   "source": [
    "km = KMeans(n_clusters = 2,init ='k-means++', max_iter=300,random_state=42)\n",
    "km.fit(X_2)\n",
    "y_2_balance_pred = km.predict(X_2)"
   ]
  },
  {
   "cell_type": "code",
   "execution_count": null,
   "id": "356ec086",
   "metadata": {},
   "outputs": [],
   "source": [
    "plt.scatter(X_2[y_2_balance_pred==0, 0], X_2[y_2_balance_pred==0, 1], s=100, c='#c43735', label ='Cluster 1')\n",
    "plt.scatter(X_2[y_2_balance_pred==1, 0], X_2[y_2_balance_pred==1, 1], s=100, c='#243233', label ='Cluster 2')\n",
    "plt.scatter(km.cluster_centers_[:, 0], km.cluster_centers_[:, 1], s=300, c='cyan', label = 'Centroids')\n",
    "plt.show()"
   ]
  },
  {
   "cell_type": "markdown",
   "id": "fd53366e",
   "metadata": {},
   "source": [
    "## 3 Clusters"
   ]
  },
  {
   "cell_type": "code",
   "execution_count": null,
   "id": "7372bccf",
   "metadata": {},
   "outputs": [],
   "source": [
    "km_3 = KMeans(3)\n",
    "km_3.fit(x_scaled)"
   ]
  },
  {
   "cell_type": "code",
   "execution_count": null,
   "id": "988de783",
   "metadata": {},
   "outputs": [],
   "source": [
    "clusters_3 = x.copy()\n",
    "clusters_3['cluster_pred']=km_3.fit_predict(x_scaled)"
   ]
  },
  {
   "cell_type": "code",
   "execution_count": null,
   "id": "91764d60",
   "metadata": {},
   "outputs": [],
   "source": [
    "X_3 = cluster_df[['BALANCE','PURCHASES']].to_numpy()"
   ]
  },
  {
   "cell_type": "code",
   "execution_count": null,
   "id": "a6688bbf",
   "metadata": {},
   "outputs": [],
   "source": [
    "km = KMeans(n_clusters = 3,init ='k-means++', max_iter=300,random_state=42)\n",
    "km.fit(X_3)\n",
    "y_3_balance_pred = km.predict(X_3)"
   ]
  },
  {
   "cell_type": "code",
   "execution_count": null,
   "id": "b991124b",
   "metadata": {},
   "outputs": [],
   "source": [
    "plt.scatter(X_3[y_3_balance_pred==0, 0], X_3[y_3_balance_pred==0, 1], s=100, c='#c43735', label ='Cluster 1')\n",
    "plt.scatter(X_3[y_3_balance_pred==1, 0], X_3[y_3_balance_pred==1, 1], s=100, c='#243233', label ='Cluster 2')\n",
    "plt.scatter(X_3[y_3_balance_pred==2, 0], X_3[y_3_balance_pred==2, 1], s=100, c='#1b6116', label ='Cluster 3')\n",
    "plt.scatter(km.cluster_centers_[:, 0], km.cluster_centers_[:, 1], s=300, c='cyan', label = 'Centroids')\n",
    "plt.show()"
   ]
  },
  {
   "cell_type": "markdown",
   "id": "fd2e88fb",
   "metadata": {},
   "source": [
    "## 4 clusters"
   ]
  },
  {
   "cell_type": "code",
   "execution_count": null,
   "id": "d64ba4ea",
   "metadata": {},
   "outputs": [],
   "source": [
    "km_4 = KMeans(4)\n",
    "km_4.fit(x_scaled)"
   ]
  },
  {
   "cell_type": "code",
   "execution_count": null,
   "id": "86bf1b60",
   "metadata": {},
   "outputs": [],
   "source": [
    "clusters_4 = x.copy()\n",
    "clusters_4['cluster_pred']=km_4.fit_predict(x_scaled)"
   ]
  },
  {
   "cell_type": "code",
   "execution_count": null,
   "id": "1f0ea61b",
   "metadata": {},
   "outputs": [],
   "source": [
    "X_4 = cluster_df[['BALANCE','PURCHASES']].to_numpy()"
   ]
  },
  {
   "cell_type": "code",
   "execution_count": null,
   "id": "0b6660fd",
   "metadata": {},
   "outputs": [],
   "source": [
    "km = KMeans(n_clusters = 4,init ='k-means++', max_iter=300,random_state=42)\n",
    "km.fit(X_4)\n",
    "y_4_balance_pred = km.predict(X_4)"
   ]
  },
  {
   "cell_type": "code",
   "execution_count": null,
   "id": "af5e05d1",
   "metadata": {},
   "outputs": [],
   "source": [
    "plt.scatter(X_4[y_4_balance_pred==0, 0], X_4[y_4_balance_pred==0, 1], s=100, c='#c43735', label ='Cluster 1')\n",
    "plt.scatter(X_4[y_4_balance_pred==1, 0], X_4[y_4_balance_pred==1, 1], s=100, c='#243233', label ='Cluster 2')\n",
    "plt.scatter(X_4[y_4_balance_pred==2, 0], X_4[y_4_balance_pred==2, 1], s=100, c='#1b6116', label ='Cluster 3')\n",
    "plt.scatter(X_4[y_4_balance_pred==3, 0], X_4[y_4_balance_pred==3, 1], s=100, c='#fcba03', label ='Cluster 4')\n",
    "plt.scatter(km.cluster_centers_[:, 0], km.cluster_centers_[:, 1], s=300, c='cyan', label = 'Centroids')\n",
    "plt.show()"
   ]
  },
  {
   "cell_type": "markdown",
   "id": "7f4ebdf7",
   "metadata": {},
   "source": [
    "## 8 clusters"
   ]
  },
  {
   "cell_type": "code",
   "execution_count": null,
   "id": "131cab39",
   "metadata": {},
   "outputs": [],
   "source": [
    "km_8 = KMeans(8)\n",
    "km_8.fit(x_scaled)"
   ]
  },
  {
   "cell_type": "code",
   "execution_count": null,
   "id": "16b6f5e8",
   "metadata": {},
   "outputs": [],
   "source": [
    "clusters_8 = x.copy()\n",
    "clusters_8['cluster_pred']=km_8.fit_predict(x_scaled)"
   ]
  },
  {
   "cell_type": "code",
   "execution_count": null,
   "id": "6946c8c7",
   "metadata": {},
   "outputs": [],
   "source": [
    "X_8 = cluster_df[['BALANCE','PURCHASES']].to_numpy()"
   ]
  },
  {
   "cell_type": "code",
   "execution_count": null,
   "id": "01c67e71",
   "metadata": {},
   "outputs": [],
   "source": [
    "km = KMeans(n_clusters = 8,init ='k-means++', max_iter=300,random_state=42)\n",
    "km.fit(X_8)\n",
    "y_8_balance_pred = km.predict(X_8)"
   ]
  },
  {
   "cell_type": "code",
   "execution_count": null,
   "id": "4146f58d",
   "metadata": {},
   "outputs": [],
   "source": [
    "plt.scatter(X_8[y_8_balance_pred==0, 0], X_8[y_8_balance_pred==0, 1], s=100, c='#c43735', label ='Cluster 1')\n",
    "plt.scatter(X_8[y_8_balance_pred==1, 0], X_8[y_8_balance_pred==1, 1], s=100, c='#243233', label ='Cluster 2')\n",
    "plt.scatter(X_8[y_8_balance_pred==2, 0], X_8[y_8_balance_pred==2, 1], s=100, c='#1b6116', label ='Cluster 3')\n",
    "plt.scatter(X_8[y_8_balance_pred==3, 0], X_8[y_8_balance_pred==3, 1], s=100, c='#fcba03', label ='Cluster 4')\n",
    "plt.scatter(X_8[y_8_balance_pred==4, 0], X_8[y_8_balance_pred==4, 1], s=100, c='#bae8c6', label ='Cluster 1')\n",
    "plt.scatter(X_8[y_8_balance_pred==5, 0], X_8[y_8_balance_pred==5, 1], s=100, c='#3287a1', label ='Cluster 2')\n",
    "plt.scatter(X_8[y_8_balance_pred==6, 0], X_8[y_8_balance_pred==6, 1], s=100, c='#523646', label ='Cluster 3')\n",
    "plt.scatter(X_8[y_8_balance_pred==7, 0], X_8[y_8_balance_pred==7, 1], s=100, c='#381113', label ='Cluster 4')\n",
    "plt.scatter(km.cluster_centers_[:, 0], km.cluster_centers_[:, 1], s=300, c='cyan', label = 'Centroids')\n",
    "plt.show()"
   ]
  },
  {
   "cell_type": "code",
   "execution_count": null,
   "id": "bc7318de",
   "metadata": {},
   "outputs": [],
   "source": []
  }
 ],
 "metadata": {
  "kernelspec": {
   "display_name": "Python 3 (ipykernel)",
   "language": "python",
   "name": "python3"
  },
  "language_info": {
   "codemirror_mode": {
    "name": "ipython",
    "version": 3
   },
   "file_extension": ".py",
   "mimetype": "text/x-python",
   "name": "python",
   "nbconvert_exporter": "python",
   "pygments_lexer": "ipython3",
   "version": "3.9.7"
  }
 },
 "nbformat": 4,
 "nbformat_minor": 5
}
